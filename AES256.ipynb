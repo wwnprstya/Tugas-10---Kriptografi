{
 "cells": [
  {
   "cell_type": "code",
   "execution_count": 1,
   "metadata": {
    "colab": {
     "base_uri": "https://localhost:8080/"
    },
    "id": "TwDh_yeDL8qM",
    "outputId": "2fea1d82-6475-4ddf-b3b6-f08582c81c32"
   },
   "outputs": [
    {
     "ename": "ModuleNotFoundError",
     "evalue": "No module named 'cryptography'",
     "output_type": "error",
     "traceback": [
      "\u001b[1;31m---------------------------------------------------------------------------\u001b[0m",
      "\u001b[1;31mModuleNotFoundError\u001b[0m                       Traceback (most recent call last)",
      "Cell \u001b[1;32mIn[1], line 1\u001b[0m\n\u001b[1;32m----> 1\u001b[0m \u001b[38;5;28;01mfrom\u001b[39;00m \u001b[38;5;21;01mcryptography\u001b[39;00m\u001b[38;5;21;01m.\u001b[39;00m\u001b[38;5;21;01mhazmat\u001b[39;00m\u001b[38;5;21;01m.\u001b[39;00m\u001b[38;5;21;01mprimitives\u001b[39;00m\u001b[38;5;21;01m.\u001b[39;00m\u001b[38;5;21;01mciphers\u001b[39;00m \u001b[38;5;28;01mimport\u001b[39;00m Cipher, algorithms, modes\n\u001b[0;32m      2\u001b[0m \u001b[38;5;28;01mfrom\u001b[39;00m \u001b[38;5;21;01mcryptography\u001b[39;00m\u001b[38;5;21;01m.\u001b[39;00m\u001b[38;5;21;01mhazmat\u001b[39;00m\u001b[38;5;21;01m.\u001b[39;00m\u001b[38;5;21;01mprimitives\u001b[39;00m \u001b[38;5;28;01mimport\u001b[39;00m padding\n\u001b[0;32m      3\u001b[0m \u001b[38;5;28;01mfrom\u001b[39;00m \u001b[38;5;21;01mcryptography\u001b[39;00m\u001b[38;5;21;01m.\u001b[39;00m\u001b[38;5;21;01mhazmat\u001b[39;00m\u001b[38;5;21;01m.\u001b[39;00m\u001b[38;5;21;01mprimitives\u001b[39;00m\u001b[38;5;21;01m.\u001b[39;00m\u001b[38;5;21;01mkdf\u001b[39;00m\u001b[38;5;21;01m.\u001b[39;00m\u001b[38;5;21;01mpbkdf2\u001b[39;00m \u001b[38;5;28;01mimport\u001b[39;00m PBKDF2HMAC\n",
      "\u001b[1;31mModuleNotFoundError\u001b[0m: No module named 'cryptography'"
     ]
    }
   ],
   "source": [
    "# Fungsi untuk mengenkripsi teks\n",
    "\n",
    "def encrypt_aes_256(key, plaintext):\n",
    "    # Buat salt dan IV (Initialization Vector)\n",
    "    salt = os.urandom(16)  # Pembuatan salt untuk derivasi kunci\n",
    "    iv = os.urandom(16)    # Pembuatan IV untuk mode CBC\n",
    "\n",
    "    # KDF (Key Derivation Function) untuk menghasilkan kunci AES-256 dari key\n",
    "    kdf = PBKDF2HMAC(\n",
    "        algorithm=SHA256(),\n",
    "        length=32,\n",
    "        salt=salt,\n",
    "        iterations=100000,\n",
    "        backend=default_backend()\n",
    "    )\n",
    "    aes_key = kdf.derive(key.encode())  # Derivasi kunci (Tahap awal untuk AddRoundKey)\n",
    "\n",
    "    # Padding plaintext agar sesuai dengan blok AES (16 bytes)\n",
    "    padder = padding.PKCS7(algorithms.AES.block_size).padder()\n",
    "    padded_data = padder.update(plaintext.encode()) + padder.finalize()\n",
    "\n",
    "    # Enkripsi\n",
    "    cipher = Cipher(algorithms.AES(aes_key), modes.CBC(iv), backend=default_backend())\n",
    "    encryptor = cipher.encryptor()\n",
    "\n",
    "    # Proses berikut secara implisit mencakup tahapan AES:\n",
    "    # 1. SubBytes: Substitusi byte dilakukan dalam `encryptor.update()` untuk memperkenalkan kebingungan pada data.\n",
    "    # 2. ShiftRows: Perpindahan siklik byte diimplementasikan dalam proses internal AES di `encryptor.update()`.\n",
    "    # 3. MixColumns: Transformasi linier pada kolom data juga dilakukan di `encryptor.update()`.\n",
    "    # 4. AddRoundKey: XOR antara data dengan kunci ronde dilakukan di setiap ronde enkripsi.\n",
    "    ciphertext = encryptor.update(padded_data) + encryptor.finalize()\n",
    "\n",
    "    return salt, iv, ciphertext\n",
    "\n",
    "# Fungsi untuk mendekripsi teks\n",
    "def decrypt_aes_256(key, salt, iv, ciphertext):\n",
    "    # KDF untuk menghasilkan kunci AES-256 dari key\n",
    "    kdf = PBKDF2HMAC(\n",
    "        algorithm=SHA256(),\n",
    "        length=32,\n",
    "        salt=salt,\n",
    "        iterations=100000,\n",
    "        backend=default_backend()\n",
    "    )\n",
    "    aes_key = kdf.derive(key.encode())\n",
    "\n",
    "    # Dekripsi\n",
    "    cipher = Cipher(algorithms.AES(aes_key), modes.CBC(iv), backend=default_backend())\n",
    "    decryptor = cipher.decryptor()\n",
    "    padded_data = decryptor.update(ciphertext) + decryptor.finalize()\n",
    "\n",
    "    # Unpadding untuk mengembalikan teks asli\n",
    "    unpadder = padding.PKCS7(algorithms.AES.block_size).unpadder()\n",
    "    plaintext = unpadder.update(padded_data) + unpadder.finalize()\n",
    "\n",
    "    return plaintext.decode()\n",
    "\n",
    "# Contoh penggunaan\n",
    "if __name__ == \"__main__\":\n",
    "    # Teks asli\n",
    "    plaintext = \"UNIVERSITAS ESA UNGGUL ADALAH PERGURUAN TINGGI TERAKREDITASI UNGGUL\"\n",
    "    # Key untuk enkripsi (harus panjang yang memadai)\n",
    "    key = \"supersecretpassword1234567890\"  # Minimal 32 karakter untuk keamanan optimal\n",
    "\n",
    "    # Enkripsi\n",
    "    salt, iv, ciphertext = encrypt_aes_256(key, plaintext)\n",
    "    print(f\"Ciphertext: {ciphertext.hex()}\")\n",
    "\n",
    "    # Dekripsi\n",
    "    decrypted_text = decrypt_aes_256(key, salt, iv, ciphertext)\n",
    "    print(f\"Decrypted text: {decrypted_text}\")\n"
   ]
  }
 ],
 "metadata": {
  "colab": {
   "provenance": []
  },
  "kernelspec": {
   "display_name": "Python 3",
   "name": "python3"
  },
  "language_info": {
   "codemirror_mode": {
    "name": "ipython",
    "version": 3
   },
   "file_extension": ".py",
   "mimetype": "text/x-python",
   "name": "python",
   "nbconvert_exporter": "python",
   "pygments_lexer": "ipython3",
   "version": "3.12.3"
  }
 },
 "nbformat": 4,
 "nbformat_minor": 0
}
